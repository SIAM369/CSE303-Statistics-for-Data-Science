{
  "nbformat": 4,
  "nbformat_minor": 0,
  "metadata": {
    "colab": {
      "provenance": [],
      "collapsed_sections": [
        "jVt420YpLVvo",
        "h3kCiRDiKtfr",
        "OZDC6jCYNCJj",
        "1P8HMSmJNhAB",
        "lbI7vio0Nsg-",
        "g1-QgspnN77g",
        "BgRKgShEOLHl",
        "rbCQwcK0ORTa",
        "2vIzxCHgOabN",
        "Z0SdoOwoOlzP",
        "HVb5PdKyPfKT",
        "Nq1BDazRPLGJ"
      ]
    },
    "kernelspec": {
      "name": "python3",
      "display_name": "Python 3"
    },
    "language_info": {
      "name": "python"
    }
  },
  "cells": [
    {
      "cell_type": "markdown",
      "source": [
        "# Lab 1 Assignment: Basics of Python\n",
        "\n",
        "Solve the questions in this jupyter notebook. You must:\n",
        "- make your code tidy with appropriate comments.\n",
        "- Use the code segment below the questions.\n",
        "- Submit the code by 11:59 PM, Saturday\n",
        " "
      ],
      "metadata": {
        "id": "jVt420YpLVvo"
      }
    },
    {
      "cell_type": "markdown",
      "source": [
        "# 1. Read inputs from the user. Write a Python program to return their product. If the product is greater than 1000, then return their sum as well. "
      ],
      "metadata": {
        "id": "h3kCiRDiKtfr"
      }
    },
    {
      "cell_type": "code",
      "execution_count": null,
      "metadata": {
        "id": "h6B52Fr2Kngi"
      },
      "outputs": [],
      "source": []
    },
    {
      "cell_type": "markdown",
      "source": [
        "# 2. Write a Python program to find the area and perimeter of a circle. Read inputs from the user."
      ],
      "metadata": {
        "id": "xkPxeljPM6PQ"
      }
    },
    {
      "cell_type": "code",
      "source": [],
      "metadata": {
        "id": "Hj_PKxSgNBH5"
      },
      "execution_count": null,
      "outputs": []
    },
    {
      "cell_type": "markdown",
      "source": [
        "# 3. Given a positive integer N (read from the user), write a Python program to calculate the value of the following series.\n",
        "`1^2 + 2^2 + 3^2 + 4^2 + … + N^2`"
      ],
      "metadata": {
        "id": "OZDC6jCYNCJj"
      }
    },
    {
      "cell_type": "code",
      "source": [],
      "metadata": {
        "id": "G0kmtdqoNbio"
      },
      "execution_count": null,
      "outputs": []
    },
    {
      "cell_type": "markdown",
      "source": [
        "# 4. Given a positive integer N (read from the user), write a Python program to check if the number is prime or not."
      ],
      "metadata": {
        "id": "1P8HMSmJNhAB"
      }
    },
    {
      "cell_type": "code",
      "source": [],
      "metadata": {
        "id": "1RM57x4eNlFs"
      },
      "execution_count": null,
      "outputs": []
    },
    {
      "cell_type": "markdown",
      "source": [
        "# 5. Given a list of numbers (hardcoded in the program), write a Python program to calculate the sum of the list. Do not use any built-in function."
      ],
      "metadata": {
        "id": "lbI7vio0Nsg-"
      }
    },
    {
      "cell_type": "code",
      "source": [],
      "metadata": {
        "id": "ZtI16tjCNu1y"
      },
      "execution_count": null,
      "outputs": []
    },
    {
      "cell_type": "markdown",
      "source": [
        "# 6. Given a list of numbers (hardcoded in the program), write a Python program to calculate the sum of the even-indexed elements in the list."
      ],
      "metadata": {
        "id": "g1-QgspnN77g"
      }
    },
    {
      "cell_type": "code",
      "source": [],
      "metadata": {
        "id": "Q8ymeCypN-0d"
      },
      "execution_count": null,
      "outputs": []
    },
    {
      "cell_type": "markdown",
      "source": [
        "# 7. Given a list of numbers (hardcoded in the program), write a Python program to find the second largest element of the list."
      ],
      "metadata": {
        "id": "BgRKgShEOLHl"
      }
    },
    {
      "cell_type": "code",
      "source": [],
      "metadata": {
        "id": "eOqMwnOfONGA"
      },
      "execution_count": null,
      "outputs": []
    },
    {
      "cell_type": "markdown",
      "source": [
        "# 8. Given a string, display only those characters which are present at an even index number. Read inputs from the user."
      ],
      "metadata": {
        "id": "rbCQwcK0ORTa"
      }
    },
    {
      "cell_type": "code",
      "source": [],
      "metadata": {
        "id": "-x-qAPwnOT3K"
      },
      "execution_count": null,
      "outputs": []
    },
    {
      "cell_type": "markdown",
      "source": [
        "# 9. Given a string and an integer number N, remove characters from a string starting from zero up to N and return a new string. N must be less than the length of the string. Read inputs from the user. Do not use any built-in function."
      ],
      "metadata": {
        "id": "2vIzxCHgOabN"
      }
    },
    {
      "cell_type": "code",
      "source": [],
      "metadata": {
        "id": "qAaNW6z4OcwC"
      },
      "execution_count": null,
      "outputs": []
    },
    {
      "cell_type": "markdown",
      "source": [
        "# 10. Given a string, find the count of the substring “CSE303” appeared in the given string. Do not use any built-in function.\n",
        "\n",
        "The string is: \"This is CSE303 course. The name of CSE303 is: Statistics for Data Science. It's a fundamental CSE course for future data scientists.\""
      ],
      "metadata": {
        "id": "Z0SdoOwoOlzP"
      }
    },
    {
      "cell_type": "code",
      "source": [],
      "metadata": {
        "id": "D5we1z4CPDTe"
      },
      "execution_count": null,
      "outputs": []
    },
    {
      "cell_type": "markdown",
      "source": [
        "# 11. Given a two list of numbers (hardcoded in the program), create a new list such that new list should contain only odd numbers from the first list and even numbers from the second list."
      ],
      "metadata": {
        "id": "HVb5PdKyPfKT"
      }
    },
    {
      "cell_type": "code",
      "source": [],
      "metadata": {
        "id": "TojILvwsPiXG"
      },
      "execution_count": null,
      "outputs": []
    },
    {
      "cell_type": "markdown",
      "source": [
        "# Bonus points:\n",
        "\n",
        "Learn how to define functions in python and solve the problem:\n",
        "\n",
        "Given a string, write a python program to check if it is palindrome or not. Define a function named palindrome_checker_<your-student-id> in your program."
      ],
      "metadata": {
        "id": "Nq1BDazRPLGJ"
      }
    },
    {
      "cell_type": "code",
      "source": [],
      "metadata": {
        "id": "NmyMklbXPeOL"
      },
      "execution_count": null,
      "outputs": []
    }
  ]
}